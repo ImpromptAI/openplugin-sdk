{
 "cells": [
  {
   "cell_type": "code",
   "execution_count": 1,
   "id": "5ea54f81-820b-4d43-989b-0813feb8c119",
   "metadata": {},
   "outputs": [
    {
     "name": "stdout",
     "output_type": "stream",
     "text": [
      "Collecting openplugin-sdk==0.1.5\n",
      "  Downloading openplugin_sdk-0.1.5-py3-none-any.whl.metadata (2.0 kB)\n",
      "Requirement already satisfied: httpx<0.28.0,>=0.27.0 in /opt/homebrew/Cellar/jupyterlab/4.1.3/libexec/lib/python3.12/site-packages (from openplugin-sdk==0.1.5) (0.27.0)\n",
      "Requirement already satisfied: pydantic<3.0.0,>=2.6.3 in /opt/homebrew/Cellar/jupyterlab/4.1.3/libexec/lib/python3.12/site-packages (from openplugin-sdk==0.1.5) (2.6.3)\n",
      "Requirement already satisfied: anyio in /opt/homebrew/Cellar/jupyterlab/4.1.3/libexec/lib/python3.12/site-packages (from httpx<0.28.0,>=0.27.0->openplugin-sdk==0.1.5) (4.3.0)\n",
      "Requirement already satisfied: certifi in /opt/homebrew/opt/python-certifi/lib/python3.12/site-packages (from httpx<0.28.0,>=0.27.0->openplugin-sdk==0.1.5) (2024.2.2)\n",
      "Requirement already satisfied: httpcore==1.* in /opt/homebrew/Cellar/jupyterlab/4.1.3/libexec/lib/python3.12/site-packages (from httpx<0.28.0,>=0.27.0->openplugin-sdk==0.1.5) (1.0.4)\n",
      "Requirement already satisfied: idna in /opt/homebrew/Cellar/jupyterlab/4.1.3/libexec/lib/python3.12/site-packages (from httpx<0.28.0,>=0.27.0->openplugin-sdk==0.1.5) (3.6)\n",
      "Requirement already satisfied: sniffio in /opt/homebrew/Cellar/jupyterlab/4.1.3/libexec/lib/python3.12/site-packages (from httpx<0.28.0,>=0.27.0->openplugin-sdk==0.1.5) (1.3.1)\n",
      "Requirement already satisfied: h11<0.15,>=0.13 in /opt/homebrew/Cellar/jupyterlab/4.1.3/libexec/lib/python3.12/site-packages (from httpcore==1.*->httpx<0.28.0,>=0.27.0->openplugin-sdk==0.1.5) (0.14.0)\n",
      "Requirement already satisfied: annotated-types>=0.4.0 in /opt/homebrew/Cellar/jupyterlab/4.1.3/libexec/lib/python3.12/site-packages (from pydantic<3.0.0,>=2.6.3->openplugin-sdk==0.1.5) (0.6.0)\n",
      "Requirement already satisfied: pydantic-core==2.16.3 in /opt/homebrew/Cellar/jupyterlab/4.1.3/libexec/lib/python3.12/site-packages (from pydantic<3.0.0,>=2.6.3->openplugin-sdk==0.1.5) (2.16.3)\n",
      "Requirement already satisfied: typing-extensions>=4.6.1 in /opt/homebrew/Cellar/jupyterlab/4.1.3/libexec/lib/python3.12/site-packages (from pydantic<3.0.0,>=2.6.3->openplugin-sdk==0.1.5) (4.10.0)\n",
      "Downloading openplugin_sdk-0.1.5-py3-none-any.whl (4.1 kB)\n",
      "Installing collected packages: openplugin-sdk\n",
      "  Attempting uninstall: openplugin-sdk\n",
      "    Found existing installation: openplugin-sdk 0.1.3\n",
      "    Uninstalling openplugin-sdk-0.1.3:\n",
      "      Successfully uninstalled openplugin-sdk-0.1.3\n",
      "Successfully installed openplugin-sdk-0.1.5\n",
      "Note: you may need to restart the kernel to use updated packages.\n"
     ]
    }
   ],
   "source": [
    "pip install openplugin-sdk==0.1.5"
   ]
  },
  {
   "cell_type": "code",
   "execution_count": 2,
   "id": "7ce7aefb-2a9a-4c2d-b597-ba702fbeb1b2",
   "metadata": {},
   "outputs": [
    {
     "name": "stdout",
     "output_type": "stream",
     "text": [
      "openplugin_version: 0.1.6, server_status=success\n"
     ]
    }
   ],
   "source": [
    "# setup openplugin service with remote server url\n",
    "from openplugin_sdk import OpenpluginService\n",
    "import os\n",
    "\n",
    "openplugin_server_endpoint = \"...\"\n",
    "openplugin_api_key = \"...\"\n",
    "   \n",
    "svc = OpenpluginService(openplugin_server_endpoint=openplugin_server_endpoint, openplugin_api_key=openplugin_api_key)\n",
    "print(f\"openplugin_version: {svc.remote_server_version()}, server_status={svc.ping()}\")"
   ]
  },
  {
   "cell_type": "code",
   "execution_count": 6,
   "id": "17718673-de76-4bf7-a1bb-861c1b49089f",
   "metadata": {},
   "outputs": [
    {
     "name": "stdout",
     "output_type": "stream",
     "text": [
      "https://assistant-management-data.s3.amazonaws.com/Klarna_Shopping2.json\n"
     ]
    }
   ],
   "source": [
    "from openplugin_sdk import UserAuthHeader, Approach, LLM, Config\n",
    "\n",
    "openplugin_manifest_url = (\n",
    "        \"https://assistant-management-data.s3.amazonaws.com/Klarna_Shopping2.json\"\n",
    ")\n",
    "prompt = \"Show me some T Shirts.\"\n",
    "openplugin_manifest_urls = [openplugin_manifest_url]\n",
    "config = Config(\n",
    "        openai_api_key=\"....\"\n",
    ")\n",
    "response = svc.select_a_plugin(\n",
    "        openplugin_manifest_urls=openplugin_manifest_urls,\n",
    "        prompt=prompt,\n",
    "        config=config,\n",
    ")\n",
    "print(response)\n"
   ]
  },
  {
   "cell_type": "code",
   "execution_count": null,
   "id": "f12ff3ef-a858-4104-8b6b-629b51927b09",
   "metadata": {},
   "outputs": [],
   "source": []
  }
 ],
 "metadata": {
  "kernelspec": {
   "display_name": "Python 3 (ipykernel)",
   "language": "python",
   "name": "python3"
  },
  "language_info": {
   "codemirror_mode": {
    "name": "ipython",
    "version": 3
   },
   "file_extension": ".py",
   "mimetype": "text/x-python",
   "name": "python",
   "nbconvert_exporter": "python",
   "pygments_lexer": "ipython3",
   "version": "3.12.2"
  }
 },
 "nbformat": 4,
 "nbformat_minor": 5
}
