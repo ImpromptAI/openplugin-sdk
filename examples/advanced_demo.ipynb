{
 "cells": [
  {
   "cell_type": "code",
   "execution_count": 5,
   "id": "5fdbde26-70e0-48c2-8f0b-c41fc6345cdc",
   "metadata": {},
   "outputs": [
    {
     "name": "stdout",
     "output_type": "stream",
     "text": [
      "Requirement already satisfied: openplugin-sdk==0.1.3 in /opt/homebrew/Cellar/jupyterlab/4.1.3/libexec/lib/python3.12/site-packages (0.1.3)\n",
      "Requirement already satisfied: httpx<0.28.0,>=0.27.0 in /opt/homebrew/Cellar/jupyterlab/4.1.3/libexec/lib/python3.12/site-packages (from openplugin-sdk==0.1.3) (0.27.0)\n",
      "Requirement already satisfied: pydantic<3.0.0,>=2.6.3 in /opt/homebrew/Cellar/jupyterlab/4.1.3/libexec/lib/python3.12/site-packages (from openplugin-sdk==0.1.3) (2.6.3)\n",
      "Requirement already satisfied: anyio in /opt/homebrew/Cellar/jupyterlab/4.1.3/libexec/lib/python3.12/site-packages (from httpx<0.28.0,>=0.27.0->openplugin-sdk==0.1.3) (4.3.0)\n",
      "Requirement already satisfied: certifi in /opt/homebrew/opt/python-certifi/lib/python3.12/site-packages (from httpx<0.28.0,>=0.27.0->openplugin-sdk==0.1.3) (2024.2.2)\n",
      "Requirement already satisfied: httpcore==1.* in /opt/homebrew/Cellar/jupyterlab/4.1.3/libexec/lib/python3.12/site-packages (from httpx<0.28.0,>=0.27.0->openplugin-sdk==0.1.3) (1.0.4)\n",
      "Requirement already satisfied: idna in /opt/homebrew/Cellar/jupyterlab/4.1.3/libexec/lib/python3.12/site-packages (from httpx<0.28.0,>=0.27.0->openplugin-sdk==0.1.3) (3.6)\n",
      "Requirement already satisfied: sniffio in /opt/homebrew/Cellar/jupyterlab/4.1.3/libexec/lib/python3.12/site-packages (from httpx<0.28.0,>=0.27.0->openplugin-sdk==0.1.3) (1.3.1)\n",
      "Requirement already satisfied: h11<0.15,>=0.13 in /opt/homebrew/Cellar/jupyterlab/4.1.3/libexec/lib/python3.12/site-packages (from httpcore==1.*->httpx<0.28.0,>=0.27.0->openplugin-sdk==0.1.3) (0.14.0)\n",
      "Requirement already satisfied: annotated-types>=0.4.0 in /opt/homebrew/Cellar/jupyterlab/4.1.3/libexec/lib/python3.12/site-packages (from pydantic<3.0.0,>=2.6.3->openplugin-sdk==0.1.3) (0.6.0)\n",
      "Requirement already satisfied: pydantic-core==2.16.3 in /opt/homebrew/Cellar/jupyterlab/4.1.3/libexec/lib/python3.12/site-packages (from pydantic<3.0.0,>=2.6.3->openplugin-sdk==0.1.3) (2.16.3)\n",
      "Requirement already satisfied: typing-extensions>=4.6.1 in /opt/homebrew/Cellar/jupyterlab/4.1.3/libexec/lib/python3.12/site-packages (from pydantic<3.0.0,>=2.6.3->openplugin-sdk==0.1.3) (4.10.0)\n",
      "Note: you may need to restart the kernel to use updated packages.\n"
     ]
    }
   ],
   "source": [
    "pip install openplugin-sdk==0.1.3"
   ]
  },
  {
   "cell_type": "code",
   "execution_count": 6,
   "id": "c7b01a45-a2f8-432c-87e9-e0b14dc37bb3",
   "metadata": {},
   "outputs": [
    {
     "name": "stdout",
     "output_type": "stream",
     "text": [
      "openplugin_version: 0.1.4, server_status=success\n"
     ]
    }
   ],
   "source": [
    "# setup openplugin service with remote server url\n",
    "from openplugin_sdk import OpenpluginService\n",
    "import os\n",
    "\n",
    "openplugin_server_endpoint = \"...\"\n",
    "openplugin_api_key = \"...\"\n",
    "   \n",
    "svc = OpenpluginService(openplugin_server_endpoint=openplugin_server_endpoint, openplugin_api_key=openplugin_api_key)\n",
    "print(f\"openplugin_version: {svc.remote_server_version()}, server_status={svc.ping()}\")"
   ]
  },
  {
   "cell_type": "code",
   "execution_count": 10,
   "id": "b70b7008-bfb7-423d-b93e-99b09bc9765e",
   "metadata": {},
   "outputs": [
    {
     "name": "stdout",
     "output_type": "stream",
     "text": [
      "<>\n",
      "  <div className=\"stock-info\">\n",
      "    <h2>{response.answer_box.title} ({response.answer_box.stock}) Stock Price</h2>\n",
      "    <p>\n",
      "      <strong>Exchange:</strong> {response.answer_box.exchange} - \n",
      "      <strong> Currency:</strong> {response.answer_box.currency} - \n",
      "      <strong>Current Price:</strong> ${response.answer_box.price}\n",
      "    </p>\n",
      "    <div className=\"price-movement\">\n",
      "      <p><strong>Price Movement Today:</strong> {response.answer_box.price_movement.movement}</p>\n",
      "      <p>{response.answer_box.price_movement.price} ({response.answer_box.price_movement.percentage}%)</p>\n",
      "    </div>\n",
      "    <div className=\"market-status\">\n",
      "      <p><strong>Market Status:</strong> {response.answer_box.market.trading}</p>\n",
      "      <p>{response.answer_box.market.closed ? \"Closed\" : \"Open\"}</p>\n",
      "    </div>\n",
      "    <div className=\"previous-close\">\n",
      "      <p><strong>Previous Close:</strong> ${response.answer_box.previous_close}</p>\n",
      "    </div>\n",
      "    <table className=\"stock-details\">\n",
      "      <tbody>\n",
      "        {response.answer_box.table.map((item, index) => (\n",
      "          <tr key={index}>\n",
      "            <td>{item.name}</td>\n",
      "            <td>{item.value}</td>\n",
      "          </tr>\n",
      "        ))}\n",
      "      </tbody>\n",
      "    </table>\n",
      "  </div>\n",
      "</>\n"
     ]
    }
   ],
   "source": [
    "from openplugin_sdk import Approach, UserAuthHeader, LLM, Config\n",
    "openplugin_manifest_url = \"https://assistant-management-data.s3.amazonaws.com/Google_Finance.json\"\n",
    "prompt = \"What is the stock price for AMZN?\"\n",
    "output_module_name = \"template_response\"\n",
    "header = UserAuthHeader(\n",
    "        user_http_token=\"...\"\n",
    ")\n",
    "llm = LLM(\n",
    "        provider=\"OpenAIChat\",\n",
    "        model=\"gpt-4\",\n",
    "        frequency_penalty=0,\n",
    "        max_tokens=2048,\n",
    "        presence_penalty=0,\n",
    "        temperature=0,\n",
    "        top_p=1,\n",
    "    )\n",
    "approach = Approach(\n",
    "        name=\"custom approach\",\n",
    "        base_strategy=\"oai functions\",\n",
    "        pre_prompt=None,\n",
    "        llm=llm,\n",
    "    )\n",
    "config=Config(openai_api_key=\"...\")\n",
    "    \n",
    "output_module_name = \"template_response\"\n",
    "response = svc.run(\n",
    "        openplugin_manifest_url=openplugin_manifest_url,\n",
    "        prompt=prompt,\n",
    "        header=header,\n",
    "        approach=approach,\n",
    "        config=config,\n",
    "        output_module_names=[output_module_name],\n",
    "    )\n",
    "print(response.value)"
   ]
  },
  {
   "cell_type": "code",
   "execution_count": null,
   "id": "75b6bbd2-d666-46c7-9abf-3013f00ad995",
   "metadata": {},
   "outputs": [],
   "source": []
  }
 ],
 "metadata": {
  "kernelspec": {
   "display_name": "Python 3 (ipykernel)",
   "language": "python",
   "name": "python3"
  },
  "language_info": {
   "codemirror_mode": {
    "name": "ipython",
    "version": 3
   },
   "file_extension": ".py",
   "mimetype": "text/x-python",
   "name": "python",
   "nbconvert_exporter": "python",
   "pygments_lexer": "ipython3",
   "version": "3.12.2"
  }
 },
 "nbformat": 4,
 "nbformat_minor": 5
}
